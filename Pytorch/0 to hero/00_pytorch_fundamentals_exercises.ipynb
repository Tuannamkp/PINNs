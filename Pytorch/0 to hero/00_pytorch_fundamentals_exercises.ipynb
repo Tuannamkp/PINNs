{
 "nbformat": 4,
 "nbformat_minor": 0,
 "metadata": {
  "colab": {
   "name": "00_pytorch_fundamentals_exercises.ipynb",
   "provenance": [],
   "collapsed_sections": []
  },
  "kernelspec": {
   "name": "python3",
   "language": "python",
   "display_name": "Python 3 (ipykernel)"
  },
  "language_info": {
   "name": "python"
  },
  "accelerator": "GPU"
 },
 "cells": [
  {
   "cell_type": "markdown",
   "source": [
    "# 00. PyTorch Fundamentals Exercises\n",
    "\n",
    "### 1. Documentation reading \n",
    "\n",
    "A big part of deep learning (and learning to code in general) is getting familiar with the documentation of a certain framework you're using. We'll be using the PyTorch documentation a lot throughout the rest of this course. So I'd recommend spending 10-minutes reading the following (it's okay if you don't get some things for now, the focus is not yet full understanding, it's awareness):\n",
    "  * The documentation on [`torch.Tensor`](https://pytorch.org/docs/stable/tensors.html#torch-tensor).\n",
    "  * The documentation on [`torch.cuda`](https://pytorch.org/docs/master/notes/cuda.html#cuda-semantics).\n",
    "\n"
   ],
   "metadata": {
    "id": "AzDBM_v4iMe7"
   }
  },
  {
   "cell_type": "code",
   "source": [
    "# No code solution (reading)\n",
    "import torch\n"
   ],
   "metadata": {
    "id": "bGD0oD8Kizak",
    "ExecuteTime": {
     "end_time": "2023-08-09T06:46:34.891112Z",
     "start_time": "2023-08-09T06:46:33.241954Z"
    }
   },
   "execution_count": 2,
   "outputs": []
  },
  {
   "cell_type": "markdown",
   "source": [
    "### 2. Create a random tensor with shape `(7, 7)`.\n"
   ],
   "metadata": {
    "id": "__iXqqz-ioUJ"
   }
  },
  {
   "cell_type": "code",
   "source": [
    "# Import torch\n",
    "\n",
    "\n",
    "# Create random tensor\n",
    "random_tensor = torch.rand(size=(7,7))\n",
    "random_tensor"
   ],
   "metadata": {
    "id": "6pUq9Dc8i2L7",
    "ExecuteTime": {
     "end_time": "2023-08-09T06:53:50.017397Z",
     "start_time": "2023-08-09T06:53:50.013760Z"
    }
   },
   "execution_count": 12,
   "outputs": [
    {
     "data": {
      "text/plain": "tensor([[0.4820, 0.8198, 0.9971, 0.6984, 0.5675, 0.8352, 0.2056],\n        [0.5932, 0.1123, 0.1535, 0.2417, 0.7262, 0.7011, 0.2038],\n        [0.6511, 0.7745, 0.4369, 0.5191, 0.6159, 0.8102, 0.9801],\n        [0.1147, 0.3168, 0.6965, 0.9143, 0.9351, 0.9412, 0.5995],\n        [0.0652, 0.5460, 0.1872, 0.0340, 0.9442, 0.8802, 0.0012],\n        [0.5936, 0.4158, 0.4177, 0.2711, 0.6923, 0.2038, 0.6833],\n        [0.7529, 0.8579, 0.6870, 0.0051, 0.1757, 0.7497, 0.6047]])"
     },
     "execution_count": 12,
     "metadata": {},
     "output_type": "execute_result"
    }
   ]
  },
  {
   "cell_type": "markdown",
   "source": [
    "### 3. Perform a matrix multiplication on the tensor from 2 with another random tensor with shape `(1, 7)` (hint: you may have to transpose the second tensor)."
   ],
   "metadata": {
    "id": "9-XxvRLfiqkR"
   }
  },
  {
   "cell_type": "code",
   "source": [
    "# Create another random tensor\n",
    "another_ran_tensor = torch.rand(size=(1,7))\n",
    "# Perform matrix multiplication \n",
    "mul_mat=torch.mm(random_tensor,another_ran_tensor.T)\n",
    "mul_mat"
   ],
   "metadata": {
    "id": "NcLqR0Sbi_vT",
    "ExecuteTime": {
     "end_time": "2023-08-09T06:54:46.756214Z",
     "start_time": "2023-08-09T06:54:46.747089Z"
    }
   },
   "execution_count": 15,
   "outputs": [
    {
     "data": {
      "text/plain": "tensor([[3.4483],\n        [1.7395],\n        [2.9746],\n        [3.0881],\n        [1.9608],\n        [1.9364],\n        [2.6048]])"
     },
     "execution_count": 15,
     "metadata": {},
     "output_type": "execute_result"
    }
   ]
  },
  {
   "cell_type": "markdown",
   "source": [
    "### 4. Set the random seed to `0` and do 2 & 3 over again.\n",
    "\n",
    "The output should be:\n",
    "```\n",
    "(tensor([[1.8542],\n",
    "         [1.9611],\n",
    "         [2.2884],\n",
    "         [3.0481],\n",
    "         [1.7067],\n",
    "         [2.5290],\n",
    "         [1.7989]]), torch.Size([7, 1]))\n",
    "```"
   ],
   "metadata": {
    "id": "eiutdKUFiryU"
   }
  },
  {
   "cell_type": "code",
   "source": [
    "# Set manual seed\n",
    "torch.manual_seed(0)\n",
    "\n",
    "# Create two random tensors\n",
    "out1 = torch.rand((7,7))\n",
    "out2 = torch.rand(size=(1,7))\n",
    "# Matrix multiply tensors\n",
    "mul_matrix = torch.mm(out1,out2.T)\n",
    "mul_matrix"
   ],
   "metadata": {
    "id": "D-lOWI_1jRMm",
    "ExecuteTime": {
     "end_time": "2023-08-09T06:55:27.129550Z",
     "start_time": "2023-08-09T06:55:27.119965Z"
    }
   },
   "execution_count": 16,
   "outputs": [
    {
     "data": {
      "text/plain": "tensor([[1.8542],\n        [1.9611],\n        [2.2884],\n        [3.0481],\n        [1.7067],\n        [2.5290],\n        [1.7989]])"
     },
     "execution_count": 16,
     "metadata": {},
     "output_type": "execute_result"
    }
   ]
  },
  {
   "cell_type": "markdown",
   "source": [
    "### 5. Speaking of random seeds, we saw how to set it with `torch.manual_seed()` but is there a GPU equivalent? (hint: you'll need to look into the documentation for `torch.cuda` for this one)\n",
    "  * If there is, set the GPU random seed to `1234`."
   ],
   "metadata": {
    "id": "ezY6ks9Cis37"
   }
  },
  {
   "cell_type": "code",
   "source": [],
   "metadata": {
    "id": "_LKWcfSTjp00",
    "ExecuteTime": {
     "end_time": "2023-08-09T06:57:07.303621Z",
     "start_time": "2023-08-09T06:57:07.300145Z"
    }
   },
   "execution_count": 17,
   "outputs": []
  },
  {
   "cell_type": "markdown",
   "source": [
    "\n",
    "### 6. Create two random tensors of shape `(2, 3)` and send them both to the GPU (you'll need access to a GPU for this). Set `torch.manual_seed(1234)` when creating the tensors (this doesn't have to be the GPU random seed). The output should be something like:\n",
    "\n",
    "```\n",
    "Device: cuda\n",
    "(tensor([[0.0290, 0.4019, 0.2598],\n",
    "         [0.3666, 0.0583, 0.7006]], device='cuda:0'),\n",
    " tensor([[0.0518, 0.4681, 0.6738],\n",
    "         [0.3315, 0.7837, 0.5631]], device='cuda:0'))\n",
    "```"
   ],
   "metadata": {
    "id": "Ir9qSaj6it4n"
   }
  },
  {
   "cell_type": "code",
   "source": [
    "# Set random seed\n",
    "torch.manual_seed(1234)\n",
    "\n",
    "# Check for access to GPU\n",
    "\n",
    "# Create two random tensors on GPU\n",
    "random_tensor1 = torch.rand(size=(2,3))\n",
    "random_tensor2 = torch.rand_like(random_tensor1)"
   ],
   "metadata": {
    "id": "azXExiFZj5nm",
    "ExecuteTime": {
     "end_time": "2023-08-09T06:58:36.929587Z",
     "start_time": "2023-08-09T06:58:36.913270Z"
    }
   },
   "execution_count": 18,
   "outputs": []
  },
  {
   "cell_type": "markdown",
   "source": [
    "\n",
    "### 7. Perform a matrix multiplication on the tensors you created in 6 (again, you may have to adjust the shapes of one of the tensors).\n",
    "\n",
    "The output should look like:\n",
    "```\n",
    "(tensor([[0.3647, 0.4709],\n",
    "         [0.5184, 0.5617]], device='cuda:0'), torch.Size([2, 2]))\n",
    "```"
   ],
   "metadata": {
    "id": "5TlAxeiSiu1y"
   }
  },
  {
   "cell_type": "code",
   "source": [
    "# Perform matmul on tensor_A and tensor_B\n",
    "mul_ran_mat=torch.mm(random_tensor1,random_tensor2.T)\n",
    "mul_ran_mat"
   ],
   "metadata": {
    "id": "fAeG7ox0lHEO",
    "ExecuteTime": {
     "end_time": "2023-08-09T06:59:24.388464Z",
     "start_time": "2023-08-09T06:59:24.383220Z"
    }
   },
   "execution_count": 20,
   "outputs": [
    {
     "data": {
      "text/plain": "tensor([[0.3647, 0.4709],\n        [0.5184, 0.5617]])"
     },
     "execution_count": 20,
     "metadata": {},
     "output_type": "execute_result"
    }
   ]
  },
  {
   "cell_type": "markdown",
   "source": [
    "\n",
    "### 8. Find the maximum and minimum values of the output of 7."
   ],
   "metadata": {
    "id": "G7qfa5CSivwg"
   }
  },
  {
   "cell_type": "code",
   "source": [
    "# Find max\n",
    "print(f\"max of mul mat is {mul_ran_mat.max()}\")\n",
    "# Find min\n",
    "print(f\"Min of the random Mul matrix is {mul_ran_mat.min()}\")"
   ],
   "metadata": {
    "id": "Fu8_3mZpllOd",
    "ExecuteTime": {
     "end_time": "2023-08-09T07:03:33.742278Z",
     "start_time": "2023-08-09T07:03:33.738993Z"
    }
   },
   "execution_count": 23,
   "outputs": [
    {
     "name": "stdout",
     "output_type": "stream",
     "text": [
      "max of mul mat is 0.5617256760597229\n",
      "Min of the random Mul matrix is 0.3647301197052002\n"
     ]
    }
   ]
  },
  {
   "cell_type": "markdown",
   "source": [
    "### 9. Find the maximum and minimum index values of the output of 7."
   ],
   "metadata": {
    "id": "wrTj5FgNiw47"
   }
  },
  {
   "cell_type": "code",
   "source": [
    "# Find arg max\n",
    "print(f\"Index where max value occurs: {mul_ran_mat.argmax()}\")\n",
    "\n",
    "# Find arg min\n",
    "\n",
    "print(f\"Index where min value occurs: {mul_ran_mat.argmin()}\")"
   ],
   "metadata": {
    "id": "CCEKt4K2lsfQ",
    "ExecuteTime": {
     "end_time": "2023-08-09T07:03:39.099447Z",
     "start_time": "2023-08-09T07:03:39.095949Z"
    }
   },
   "execution_count": 24,
   "outputs": [
    {
     "name": "stdout",
     "output_type": "stream",
     "text": [
      "Index where max value occurs: 3\n",
      "Index where min value occurs: 0\n"
     ]
    }
   ]
  },
  {
   "cell_type": "markdown",
   "source": [
    "\n",
    "### 10. Make a random tensor with shape `(1, 1, 1, 10)` and then create a new tensor with all the `1` dimensions removed to be left with a tensor of shape `(10)`. Set the seed to `7` when you create it and print out the first tensor and it's shape as well as the second tensor and it's shape.\n",
    "\n",
    "The output should look like:\n",
    "\n",
    "```\n",
    "tensor([[[[0.5349, 0.1988, 0.6592, 0.6569, 0.2328, 0.4251, 0.2071, 0.6297,\n",
    "           0.3653, 0.8513]]]]) torch.Size([1, 1, 1, 10])\n",
    "tensor([0.5349, 0.1988, 0.6592, 0.6569, 0.2328, 0.4251, 0.2071, 0.6297, 0.3653,\n",
    "        0.8513]) torch.Size([10])\n",
    "```"
   ],
   "metadata": {
    "id": "hmeybz4uixy7"
   }
  },
  {
   "cell_type": "code",
   "source": [
    "# Set seed\n",
    "torch.manual_seed(7)\n",
    "\n",
    "# Create random tensor\n",
    "ran= torch.rand(size=(1,1,1,10))\n",
    "\n",
    "# Remove single dimensions\n",
    "ran2 = torch.reshape(ran,[10])\n",
    "\n",
    "# Print out tensors and their shapes\n",
    "print(ran,ran.shape)\n",
    "print(ran2,ran2.shape)"
   ],
   "metadata": {
    "id": "TQ9zbRzVl1jV",
    "ExecuteTime": {
     "end_time": "2023-08-09T07:20:35.653050Z",
     "start_time": "2023-08-09T07:20:35.645646Z"
    }
   },
   "execution_count": 28,
   "outputs": [
    {
     "name": "stdout",
     "output_type": "stream",
     "text": [
      "tensor([[[[0.5349, 0.1988, 0.6592, 0.6569, 0.2328, 0.4251, 0.2071, 0.6297,\n",
      "           0.3653, 0.8513]]]]) torch.Size([1, 1, 1, 10])\n",
      "tensor([0.5349, 0.1988, 0.6592, 0.6569, 0.2328, 0.4251, 0.2071, 0.6297, 0.3653,\n",
      "        0.8513]) torch.Size([10])\n"
     ]
    }
   ]
  },
  {
   "cell_type": "code",
   "execution_count": null,
   "outputs": [],
   "source": [],
   "metadata": {
    "collapsed": false
   }
  }
 ]
}
